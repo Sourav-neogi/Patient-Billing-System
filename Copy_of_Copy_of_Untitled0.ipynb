{
  "nbformat": 4,
  "nbformat_minor": 0,
  "metadata": {
    "colab": {
      "provenance": [],
      "authorship_tag": "ABX9TyNtphi6MoMnJD88sAj/3evk",
      "include_colab_link": true
    },
    "kernelspec": {
      "name": "python3",
      "display_name": "Python 3"
    },
    "language_info": {
      "name": "python"
    }
  },
  "cells": [
    {
      "cell_type": "markdown",
      "metadata": {
        "id": "view-in-github",
        "colab_type": "text"
      },
      "source": [
        "<a href=\"https://colab.research.google.com/github/Sourav-neogi/Patient-Billing-System/blob/main/Copy_of_Copy_of_Untitled0.ipynb\" target=\"_parent\"><img src=\"https://colab.research.google.com/assets/colab-badge.svg\" alt=\"Open In Colab\"/></a>"
      ]
    },
    {
      "cell_type": "code",
      "execution_count": null,
      "metadata": {
        "colab": {
          "base_uri": "https://localhost:8080/",
          "height": 130
        },
        "id": "xPjn9eq6QoQJ",
        "outputId": "56ce9640-89df-4fe9-ec4d-f0edd1ba36b0"
      },
      "outputs": [
        {
          "output_type": "error",
          "ename": "IndentationError",
          "evalue": "ignored",
          "traceback": [
            "\u001b[0;36m  File \u001b[0;32m\"<tokenize>\"\u001b[0;36m, line \u001b[0;32m14\u001b[0m\n\u001b[0;31m    from sklearn.svm import SVC\u001b[0m\n\u001b[0m    ^\u001b[0m\n\u001b[0;31mIndentationError\u001b[0m\u001b[0;31m:\u001b[0m unindent does not match any outer indentation level\n"
          ]
        }
      ],
      "source": [
        "# Support Vector Machine\n",
        "#Importing the libraries\n",
        "   import numpy as np\n",
        "    import matplotib.pyplot as plt\n",
        "     import pandas as pd\n",
        "# Importing the datasets\n",
        "   datasets = pd.read_csv('Social_Network_Ads.csv')\n",
        "   X = datasets.iloc[.;[2,3]].values\n",
        "   Y = datasets.iloc[.;4].values\n",
        "# Spliting the datasets into the Training set and Test set\n",
        "     from sklearn.model_selection import train_test_split\n",
        "     X_Train,X_Test,Y_Train,Y_Test = train_test_split(X,Y,test_size = 0.25,random_state = 0)\n",
        "# Feature Scaling\n",
        "    from sklearn.svm import SVC\n",
        "    classifier = SVC(kernel='linear',random_state=0)\n",
        "    classifier.fit(X_Train,Y_Train)\n",
        "#Predecting the test set results\n",
        "    Y_Pred=classifier.predict(X_Test)\n",
        "# Making the Confusion Matrix\n",
        "    from sklearn.metrics import confusion_matrix\n",
        "    cm=confusion_matrix(Y_Test,Y_Pred)\n",
        "#Visualizing the Tranning set results\n",
        "    from matplotib.colors import ListedColormap\n",
        "    X_Set,Y_Set=X_Train,Y_Train\n",
        "    X1,X2=np.meshgrid(np.arrange(start=X_set[.;0].min()-1,stop=X_Set[.;0].max()+1,step=0.01),\n",
        "                      np.arrange(start=X_Set[.;1].min()-1,stop=X_Set[.;1].max()+1,step=0.01))\n",
        "    plt.countourf(X1,X2,Classifier.predict(np.array([x1.ravel(),X2.ravel()]).T)reshape(X1.shape),\n",
        "                  alpha = 0.75,cmap = listed Colormap(('red','green')))\n",
        "    plt.xlim(X1.min(),X1.max())\n",
        "    plt.ylim(X2.min(),X2.max())\n",
        "    for i, j in enumerate(np.unique(Y_Set)):\n",
        "      plt.scatter(X_set[Y_Set==j,0],X_Set[Y_set==j,1],\n",
        "                  c = Listed Colormap(('red','green'))(i),label=j)\n",
        "    plt.title('Support Vector Mechine(Tranning Set)')\n",
        "    plt.xlabel('Age')\n",
        "    plt.ylabel('Estimated Salary')\n",
        "    plt.legend()\n",
        "    plt.show()\n",
        "\n"
      ]
    }
  ]
}